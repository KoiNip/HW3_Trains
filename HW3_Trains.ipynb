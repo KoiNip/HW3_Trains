{
 "cells": [
  {
   "cell_type": "code",
   "execution_count": 22,
   "id": "f604eeb8",
   "metadata": {},
   "outputs": [],
   "source": [
    "%matplotlib inline\n",
    "import pandas as pd\n",
    "import numpy as np\n",
    "from numpy.polynomial import Polynomial\n",
    "import matplotlib.pyplot as plt\n",
    "from math import exp\n",
    "from sklearn.model_selection import train_test_split\n",
    "from sklearn.linear_model import LogisticRegression\n",
    "from sklearn.preprocessing import scale\n",
    "from sklearn import preprocessing\n",
    "from sklearn.metrics import accuracy_score, classification_report, confusion_matrix, ConfusionMatrixDisplay\n",
    "import seaborn as sns"
   ]
  },
  {
   "cell_type": "code",
   "execution_count": 13,
   "id": "1ce07ccc",
   "metadata": {},
   "outputs": [],
   "source": [
    "df = pd.read_csv(\"FRAFirm.csv\")\n",
    "#df.info()   No need to print data if we know it works\n",
    "df.drop_duplicates(inplace = True)  #Cull duplicates, inplace = true makes it replace df instead of making copy"
   ]
  },
  {
   "cell_type": "code",
   "execution_count": 3,
   "id": "f8518299",
   "metadata": {},
   "outputs": [],
   "source": [
    "y = df.Class;   #y is the target, in this case the class of accident\n",
    "X = df.iloc[:, df.columns != 'Class']\n",
    "#iloc copies the tables\n",
    "#: includes all columns from the table. FistCol : Last col can be a range of columns to use if you want\n",
    "#Third argument tells computer which columns to keep, all cols except Class"
   ]
  },
  {
   "cell_type": "code",
   "execution_count": 12,
   "id": "91efee8e",
   "metadata": {},
   "outputs": [
    {
     "data": {
      "text/plain": [
       "0        0\n",
       "1        0\n",
       "2        0\n",
       "3        0\n",
       "4        0\n",
       "        ..\n",
       "38754    0\n",
       "38755    0\n",
       "38756    0\n",
       "38757    0\n",
       "38758    1\n",
       "Name: Class, Length: 37306, dtype: int64"
      ]
     },
     "execution_count": 12,
     "metadata": {},
     "output_type": "execute_result"
    }
   ],
   "source": [
    "y   #Display y, which is just the Class"
   ]
  },
  {
   "cell_type": "code",
   "execution_count": 5,
   "id": "d446f281",
   "metadata": {},
   "outputs": [],
   "source": [
    "X_train, X_test, y_train, y_test = train_test_split(X, y, test_size=0.20, random_state=12, stratify=y)\n",
    "#Create training and test sets"
   ]
  },
  {
   "cell_type": "code",
   "execution_count": 6,
   "id": "02f18e86",
   "metadata": {},
   "outputs": [],
   "source": [
    "#Scale the values to avoid erros\n",
    "scaler = preprocessing.StandardScaler().fit(X_train)\n",
    "X_train_scaled = pd.DataFrame(scaler.transform(X_train), columns = X_train.columns)\n",
    "X_test_scaled = pd.DataFrame(scaler.transform(X_test), columns = X_test.columns)"
   ]
  },
  {
   "cell_type": "code",
   "execution_count": 15,
   "id": "13e40b55",
   "metadata": {},
   "outputs": [
    {
     "name": "stdout",
     "output_type": "stream",
     "text": [
      "The accuracy for the training set is 94.52%\n",
      "The accuracy for the test set is 94.36%\n"
     ]
    }
   ],
   "source": [
    "model = LogisticRegression();\n",
    "model.fit(X_train_scaled, y_train)\n",
    "train_accuracy = model.score(X_train_scaled, y_train)\n",
    "print(f'The accuracy for the training set is {100 * train_accuracy:.2f}%')\n",
    "test_accuracy = model.score(X_test_scaled, y_test)\n",
    "print(f'The accuracy for the test set is {100 * test_accuracy:.2f}%')"
   ]
  },
  {
   "cell_type": "code",
   "execution_count": 16,
   "id": "8d931610",
   "metadata": {},
   "outputs": [
    {
     "data": {
      "text/plain": [
       "array([[0.9784, 0.0153, 0.0063],\n",
       "       [0.9037, 0.065 , 0.0313],\n",
       "       [0.8844, 0.0897, 0.0259],\n",
       "       [0.937 , 0.0461, 0.0169],\n",
       "       [0.9909, 0.0053, 0.0038],\n",
       "       [0.9767, 0.0162, 0.0071],\n",
       "       [0.9953, 0.0023, 0.0024],\n",
       "       [0.9566, 0.0268, 0.0166],\n",
       "       [0.9829, 0.0106, 0.0066],\n",
       "       [0.9178, 0.0606, 0.0215]])"
      ]
     },
     "execution_count": 16,
     "metadata": {},
     "output_type": "execute_result"
    }
   ],
   "source": [
    "prob = model.predict_proba(X_test_scaled[:10])\n",
    "np.set_printoptions(precision=4, suppress=True)\n",
    "prob"
   ]
  },
  {
   "cell_type": "code",
   "execution_count": 27,
   "id": "2ab416a3",
   "metadata": {},
   "outputs": [
    {
     "data": {
      "text/plain": [
       "array([0, 0, 0, ..., 0, 0, 0], dtype=int64)"
      ]
     },
     "execution_count": 27,
     "metadata": {},
     "output_type": "execute_result"
    }
   ],
   "source": [
    "y_pred = model.predict(X_test_scaled)   #Prediction of y\n",
    "y_pred"
   ]
  },
  {
   "cell_type": "code",
   "execution_count": 28,
   "id": "a40b50b9",
   "metadata": {},
   "outputs": [
    {
     "data": {
      "text/plain": [
       "19896    0\n",
       "37926    0\n",
       "12985    0\n",
       "1515     0\n",
       "29279    0\n",
       "        ..\n",
       "6372     0\n",
       "37005    0\n",
       "19533    0\n",
       "22179    2\n",
       "16265    0\n",
       "Name: Class, Length: 7462, dtype: int64"
      ]
     },
     "execution_count": 28,
     "metadata": {},
     "output_type": "execute_result"
    }
   ],
   "source": [
    "y_test"
   ]
  },
  {
   "cell_type": "code",
   "execution_count": 26,
   "id": "1da59910",
   "metadata": {},
   "outputs": [
    {
     "data": {
      "text/plain": [
       "<sklearn.metrics._plot.confusion_matrix.ConfusionMatrixDisplay at 0x19d647c5c00>"
      ]
     },
     "execution_count": 26,
     "metadata": {},
     "output_type": "execute_result"
    },
    {
     "data": {
      "image/png": "[encoded data removed]",
      "text/plain": [
       "<Figure size 640x480 with 2 Axes>"
      ]
     },
     "metadata": {},
     "output_type": "display_data"
    }
   ],
   "source": [
    "cnf_matrix = confusion_matrix(y_test, y_pred)   #Create confusion matrix\n",
    "disp = ConfusionMatrixDisplay(confusion_matrix=cnf_matrix)  #Create display of confusion matrix\n",
    "disp.plot() #Display confusion matrix"
   ]
  }
 ],
 "metadata": {
  "kernelspec": {
   "display_name": "Python 3",
   "language": "python",
   "name": "python3"
  },
  "language_info": {
   "codemirror_mode": {
    "name": "ipython",
    "version": 3
   },
   "file_extension": ".py",
   "mimetype": "text/x-python",
   "name": "python",
   "nbconvert_exporter": "python",
   "pygments_lexer": "ipython3",
   "version": "3.10.6"
  },
  "vscode": {
   "interpreter": {
    "hash": "0d59531ad144306c9ebafc2aba646222b3434e70c11106af3ceb5afeedfd470a"
   }
  }
 },
 "nbformat": 4,
 "nbformat_minor": 5
}
